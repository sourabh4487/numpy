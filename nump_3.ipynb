{
 "cells": [
  {
   "cell_type": "code",
   "execution_count": 1,
   "id": "dee1bdc0-6fe0-4d8f-a938-9dfde618504d",
   "metadata": {},
   "outputs": [],
   "source": [
    "import numpy as np"
   ]
  },
  {
   "cell_type": "code",
   "execution_count": 2,
   "id": "08c54cac-cbf4-4b62-b364-cb4b669dd74d",
   "metadata": {},
   "outputs": [
    {
     "data": {
      "text/plain": [
       "range(0, 10)"
      ]
     },
     "execution_count": 2,
     "metadata": {},
     "output_type": "execute_result"
    }
   ],
   "source": [
    "range(10) # range is basically a generator function that generates data based on the steps mentioned"
   ]
  },
  {
   "cell_type": "code",
   "execution_count": 3,
   "id": "b1b4f9f9-8946-48d7-a1b4-8bbaf42b85f2",
   "metadata": {},
   "outputs": [
    {
     "data": {
      "text/plain": [
       "[0, 1, 2, 3, 4, 5, 6, 7, 8, 9]"
      ]
     },
     "execution_count": 3,
     "metadata": {},
     "output_type": "execute_result"
    }
   ],
   "source": [
    "list(range(10))"
   ]
  },
  {
   "cell_type": "code",
   "execution_count": 4,
   "id": "6af4a1b1-15e4-401b-a7c5-1e218da8d2b2",
   "metadata": {},
   "outputs": [],
   "source": [
    "# generator functions can be created with a yield function"
   ]
  },
  {
   "cell_type": "code",
   "execution_count": 6,
   "id": "8eb767e5-729c-470b-b362-9907e658d50b",
   "metadata": {},
   "outputs": [
    {
     "data": {
      "text/plain": [
       "array([0.5, 1.5, 2.5, 3.5, 4.5])"
      ]
     },
     "execution_count": 6,
     "metadata": {},
     "output_type": "execute_result"
    }
   ],
   "source": [
    "np.arange(.5,5.5)"
   ]
  },
  {
   "cell_type": "code",
   "execution_count": 7,
   "id": "6bf8b7d4-7441-4432-b780-862a229f7f0d",
   "metadata": {},
   "outputs": [
    {
     "data": {
      "text/plain": [
       "array([-5, -4, -3, -2])"
      ]
     },
     "execution_count": 7,
     "metadata": {},
     "output_type": "execute_result"
    }
   ],
   "source": [
    "np.arange(-5,-1)"
   ]
  },
  {
   "cell_type": "code",
   "execution_count": 9,
   "id": "0458b1c1-d8bc-4b3c-b8d1-93dc21dc699d",
   "metadata": {},
   "outputs": [
    {
     "data": {
      "text/plain": [
       "array([], dtype=float64)"
      ]
     },
     "execution_count": 9,
     "metadata": {},
     "output_type": "execute_result"
    }
   ],
   "source": [
    "np.arange(-5,-1,-.5)"
   ]
  },
  {
   "cell_type": "code",
   "execution_count": 17,
   "id": "71d2d90c-69a6-4c2b-8278-89ccfb39129f",
   "metadata": {},
   "outputs": [
    {
     "data": {
      "text/plain": [
       "[1.0, 2.0, 3.0, 4.0, 5.0]"
      ]
     },
     "execution_count": 17,
     "metadata": {},
     "output_type": "execute_result"
    }
   ],
   "source": [
    "list(np.linspace(1,5,5))"
   ]
  },
  {
   "cell_type": "code",
   "execution_count": 18,
   "id": "0d476e1e-3a71-487c-8fc6-160536eb90a3",
   "metadata": {},
   "outputs": [
    {
     "data": {
      "text/plain": [
       "array([1.00000000e+01, 2.78255940e+06, 7.74263683e+11, 2.15443469e+17,\n",
       "       5.99484250e+22, 1.66810054e+28, 4.64158883e+33, 1.29154967e+39,\n",
       "       3.59381366e+44, 1.00000000e+50])"
      ]
     },
     "execution_count": 18,
     "metadata": {},
     "output_type": "execute_result"
    }
   ],
   "source": [
    "np.logspace(1,50,10)"
   ]
  },
  {
   "cell_type": "code",
   "execution_count": 19,
   "id": "41258934-9414-4e83-b9b7-6de0396e01d3",
   "metadata": {},
   "outputs": [
    {
     "data": {
      "text/plain": [
       "array([0., 0., 0., 0., 0.])"
      ]
     },
     "execution_count": 19,
     "metadata": {},
     "output_type": "execute_result"
    }
   ],
   "source": [
    "np.zeros(5)"
   ]
  },
  {
   "cell_type": "code",
   "execution_count": 21,
   "id": "cb873141-bdbd-44f4-af65-a277bb1e0d9a",
   "metadata": {},
   "outputs": [
    {
     "data": {
      "text/plain": [
       "array([[0., 0., 0., 0., 0.],\n",
       "       [0., 0., 0., 0., 0.],\n",
       "       [0., 0., 0., 0., 0.]])"
      ]
     },
     "execution_count": 21,
     "metadata": {},
     "output_type": "execute_result"
    }
   ],
   "source": [
    "np.zeros((3,5))"
   ]
  },
  {
   "cell_type": "code",
   "execution_count": 22,
   "id": "3883ad31-fb55-4d17-9af6-d9a5aca27094",
   "metadata": {},
   "outputs": [
    {
     "data": {
      "text/plain": [
       "array([[[0., 0., 0.],\n",
       "        [0., 0., 0.],\n",
       "        [0., 0., 0.],\n",
       "        [0., 0., 0.],\n",
       "        [0., 0., 0.]],\n",
       "\n",
       "       [[0., 0., 0.],\n",
       "        [0., 0., 0.],\n",
       "        [0., 0., 0.],\n",
       "        [0., 0., 0.],\n",
       "        [0., 0., 0.]],\n",
       "\n",
       "       [[0., 0., 0.],\n",
       "        [0., 0., 0.],\n",
       "        [0., 0., 0.],\n",
       "        [0., 0., 0.],\n",
       "        [0., 0., 0.]]])"
      ]
     },
     "execution_count": 22,
     "metadata": {},
     "output_type": "execute_result"
    }
   ],
   "source": [
    "np.zeros((3,5,3))"
   ]
  },
  {
   "cell_type": "code",
   "execution_count": 31,
   "id": "bd3dba6c-60fd-43a0-bf1e-42e8175f89c7",
   "metadata": {},
   "outputs": [
    {
     "data": {
      "text/plain": [
       "array([[0., 1., 2.],\n",
       "       [3., 4., 5.]])"
      ]
     },
     "execution_count": 31,
     "metadata": {},
     "output_type": "execute_result"
    }
   ],
   "source": [
    "np.empty((2,3))"
   ]
  },
  {
   "cell_type": "code",
   "execution_count": 32,
   "id": "7b185c12-e779-4b56-a3c2-6463f4925c51",
   "metadata": {},
   "outputs": [
    {
     "data": {
      "text/plain": [
       "array([[1., 0., 0., 0.],\n",
       "       [0., 1., 0., 0.],\n",
       "       [0., 0., 1., 0.],\n",
       "       [0., 0., 0., 1.]])"
      ]
     },
     "execution_count": 32,
     "metadata": {},
     "output_type": "execute_result"
    }
   ],
   "source": [
    "np.eye(4) # this is called an identity matrix"
   ]
  },
  {
   "cell_type": "code",
   "execution_count": 33,
   "id": "77af4a40-07f9-4617-bc6e-6ba53e62466f",
   "metadata": {},
   "outputs": [],
   "source": [
    "a = np.eye(4)\n"
   ]
  },
  {
   "cell_type": "code",
   "execution_count": 34,
   "id": "30af6e0e-55bc-41ab-b609-1884e222a317",
   "metadata": {},
   "outputs": [
    {
     "data": {
      "text/plain": [
       "(4, 4)"
      ]
     },
     "execution_count": 34,
     "metadata": {},
     "output_type": "execute_result"
    }
   ],
   "source": [
    "a.shape"
   ]
  },
  {
   "cell_type": "code",
   "execution_count": 35,
   "id": "5df0c6fe-65d1-4349-b474-0959b73aae3b",
   "metadata": {},
   "outputs": [
    {
     "data": {
      "text/plain": [
       "16"
      ]
     },
     "execution_count": 35,
     "metadata": {},
     "output_type": "execute_result"
    }
   ],
   "source": [
    "a.size"
   ]
  },
  {
   "cell_type": "code",
   "execution_count": 37,
   "id": "7e6f3bbd-e3cc-4521-962c-3b9d4a94419d",
   "metadata": {},
   "outputs": [
    {
     "data": {
      "text/plain": [
       "2"
      ]
     },
     "execution_count": 37,
     "metadata": {},
     "output_type": "execute_result"
    }
   ],
   "source": [
    "a.ndim"
   ]
  },
  {
   "cell_type": "code",
   "execution_count": 38,
   "id": "99658ab1-9886-426e-b4f7-9eb63d4b635c",
   "metadata": {},
   "outputs": [],
   "source": [
    "a1 = np.random.rand(3,4)"
   ]
  },
  {
   "cell_type": "code",
   "execution_count": 39,
   "id": "3f6bbae7-79a2-43ff-b3e0-6cc71aa3a50e",
   "metadata": {},
   "outputs": [
    {
     "data": {
      "text/plain": [
       "array([[0.48699406, 0.27289725, 0.49752712, 0.74491925],\n",
       "       [0.3763021 , 0.87257127, 0.29147545, 0.24781343],\n",
       "       [0.41384733, 0.96081822, 0.38790063, 0.00389223]])"
      ]
     },
     "execution_count": 39,
     "metadata": {},
     "output_type": "execute_result"
    }
   ],
   "source": [
    "a1"
   ]
  },
  {
   "cell_type": "code",
   "execution_count": 40,
   "id": "5e8334cc-5724-47a6-ba51-9fb30a1c9062",
   "metadata": {},
   "outputs": [],
   "source": [
    "import pandas as pd"
   ]
  },
  {
   "cell_type": "code",
   "execution_count": 41,
   "id": "edd3ba4c-37d1-489f-9f61-48203ff5e8e1",
   "metadata": {},
   "outputs": [
    {
     "data": {
      "text/html": [
       "<div>\n",
       "<style scoped>\n",
       "    .dataframe tbody tr th:only-of-type {\n",
       "        vertical-align: middle;\n",
       "    }\n",
       "\n",
       "    .dataframe tbody tr th {\n",
       "        vertical-align: top;\n",
       "    }\n",
       "\n",
       "    .dataframe thead th {\n",
       "        text-align: right;\n",
       "    }\n",
       "</style>\n",
       "<table border=\"1\" class=\"dataframe\">\n",
       "  <thead>\n",
       "    <tr style=\"text-align: right;\">\n",
       "      <th></th>\n",
       "      <th>0</th>\n",
       "      <th>1</th>\n",
       "      <th>2</th>\n",
       "      <th>3</th>\n",
       "    </tr>\n",
       "  </thead>\n",
       "  <tbody>\n",
       "    <tr>\n",
       "      <th>0</th>\n",
       "      <td>0.486994</td>\n",
       "      <td>0.272897</td>\n",
       "      <td>0.497527</td>\n",
       "      <td>0.744919</td>\n",
       "    </tr>\n",
       "    <tr>\n",
       "      <th>1</th>\n",
       "      <td>0.376302</td>\n",
       "      <td>0.872571</td>\n",
       "      <td>0.291475</td>\n",
       "      <td>0.247813</td>\n",
       "    </tr>\n",
       "    <tr>\n",
       "      <th>2</th>\n",
       "      <td>0.413847</td>\n",
       "      <td>0.960818</td>\n",
       "      <td>0.387901</td>\n",
       "      <td>0.003892</td>\n",
       "    </tr>\n",
       "  </tbody>\n",
       "</table>\n",
       "</div>"
      ],
      "text/plain": [
       "          0         1         2         3\n",
       "0  0.486994  0.272897  0.497527  0.744919\n",
       "1  0.376302  0.872571  0.291475  0.247813\n",
       "2  0.413847  0.960818  0.387901  0.003892"
      ]
     },
     "execution_count": 41,
     "metadata": {},
     "output_type": "execute_result"
    }
   ],
   "source": [
    "pd.DataFrame(a1)"
   ]
  },
  {
   "cell_type": "code",
   "execution_count": 42,
   "id": "bfbacf56-bc5f-4658-b9aa-1f1ca2d173d3",
   "metadata": {},
   "outputs": [
    {
     "data": {
      "text/plain": [
       "0.8725712711355377"
      ]
     },
     "execution_count": 42,
     "metadata": {},
     "output_type": "execute_result"
    }
   ],
   "source": [
    "a1[1][1]"
   ]
  },
  {
   "cell_type": "code",
   "execution_count": 45,
   "id": "a2ae436e-3f95-4049-9631-2ec26b71ab1d",
   "metadata": {},
   "outputs": [
    {
     "data": {
      "text/plain": [
       "array([[0.48699406, 0.27289725],\n",
       "       [0.3763021 , 0.87257127]])"
      ]
     },
     "execution_count": 45,
     "metadata": {},
     "output_type": "execute_result"
    }
   ],
   "source": [
    "a1[0:2,0:2]"
   ]
  },
  {
   "cell_type": "code",
   "execution_count": 46,
   "id": "3400f8b1-ab77-47ff-8e37-1f02ed1761ef",
   "metadata": {},
   "outputs": [
    {
     "data": {
      "text/plain": [
       "array([[0.48699406, 0.27289725, 0.49752712, 0.74491925],\n",
       "       [0.3763021 , 0.87257127, 0.29147545, 0.24781343],\n",
       "       [0.41384733, 0.96081822, 0.38790063, 0.00389223]])"
      ]
     },
     "execution_count": 46,
     "metadata": {},
     "output_type": "execute_result"
    }
   ],
   "source": [
    "a1"
   ]
  },
  {
   "cell_type": "code",
   "execution_count": 48,
   "id": "ba8e2d6b-3064-4928-86b3-37aa25100878",
   "metadata": {},
   "outputs": [
    {
     "data": {
      "text/plain": [
       "array([0.24781343, 0.00389223])"
      ]
     },
     "execution_count": 48,
     "metadata": {},
     "output_type": "execute_result"
    }
   ],
   "source": [
    "a1[[1,2],3]"
   ]
  },
  {
   "cell_type": "code",
   "execution_count": 61,
   "id": "fda930ec-30a0-40f3-9ccc-77b1f5e31462",
   "metadata": {},
   "outputs": [],
   "source": [
    "m1 = np.random.randint(1,3, (3,3))"
   ]
  },
  {
   "cell_type": "code",
   "execution_count": 62,
   "id": "f7612c34-16cd-47f2-aade-47b12eba2fcb",
   "metadata": {},
   "outputs": [
    {
     "data": {
      "text/plain": [
       "array([[1, 1, 2],\n",
       "       [2, 2, 1],\n",
       "       [1, 2, 1]])"
      ]
     },
     "execution_count": 62,
     "metadata": {},
     "output_type": "execute_result"
    }
   ],
   "source": [
    "m1"
   ]
  },
  {
   "cell_type": "code",
   "execution_count": 63,
   "id": "4d5d2a20-2db7-406a-9bbd-8f3c41766581",
   "metadata": {},
   "outputs": [],
   "source": [
    "m2 = np.random.randint(2,4,(3,3))"
   ]
  },
  {
   "cell_type": "code",
   "execution_count": 64,
   "id": "eca819d9-22da-4ed9-8942-16aef16ca5fa",
   "metadata": {},
   "outputs": [
    {
     "data": {
      "text/plain": [
       "array([[2, 3, 2],\n",
       "       [2, 3, 2],\n",
       "       [3, 3, 3]])"
      ]
     },
     "execution_count": 64,
     "metadata": {},
     "output_type": "execute_result"
    }
   ],
   "source": [
    "m2"
   ]
  },
  {
   "cell_type": "code",
   "execution_count": 65,
   "id": "a51a5c00-e423-4cc6-9b3d-b3180942d0c8",
   "metadata": {},
   "outputs": [
    {
     "data": {
      "text/plain": [
       "array([[2, 3, 4],\n",
       "       [4, 6, 2],\n",
       "       [3, 6, 3]])"
      ]
     },
     "execution_count": 65,
     "metadata": {},
     "output_type": "execute_result"
    }
   ],
   "source": [
    "m1*m2 # this only gives element wise multiplicaton for the two matrices"
   ]
  },
  {
   "cell_type": "code",
   "execution_count": 67,
   "id": "fe44da4c-711c-495f-9202-46fc8c75179b",
   "metadata": {},
   "outputs": [
    {
     "data": {
      "text/plain": [
       "array([[10, 12, 10],\n",
       "       [11, 15, 11],\n",
       "       [ 9, 12,  9]])"
      ]
     },
     "execution_count": 67,
     "metadata": {},
     "output_type": "execute_result"
    }
   ],
   "source": [
    "m1@m2 # this multiplicaton of two matrices"
   ]
  },
  {
   "cell_type": "code",
   "execution_count": 68,
   "id": "5d8059f2-e3f6-4f59-bb17-c0cd6ee20ab7",
   "metadata": {},
   "outputs": [],
   "source": [
    "# the first rule of matrix multiplication is that the number of columns of the first matrix should always be equal to the number of rows of the second matrix\n",
    "# the final dimenstion of the product matrix will be the row1 x column2"
   ]
  },
  {
   "cell_type": "code",
   "execution_count": 71,
   "id": "3839608a-8513-4771-88cc-feebbc288c1b",
   "metadata": {},
   "outputs": [
    {
     "data": {
      "text/plain": [
       "array([[100, 144, 100],\n",
       "       [121, 225, 121],\n",
       "       [ 81, 144,  81]])"
      ]
     },
     "execution_count": 71,
     "metadata": {},
     "output_type": "execute_result"
    }
   ],
   "source": [
    "pow(m1@m2,2)"
   ]
  },
  {
   "cell_type": "code",
   "execution_count": 72,
   "id": "c1920abb-6fe1-4556-ba72-b91a9828630b",
   "metadata": {},
   "outputs": [
    {
     "data": {
      "text/plain": [
       "array([[1.        , 1.        , 1.41421356],\n",
       "       [1.41421356, 1.41421356, 1.        ],\n",
       "       [1.        , 1.41421356, 1.        ]])"
      ]
     },
     "execution_count": 72,
     "metadata": {},
     "output_type": "execute_result"
    }
   ],
   "source": [
    "np.sqrt(m1)"
   ]
  },
  {
   "cell_type": "code",
   "execution_count": 74,
   "id": "58c58fcb-7405-43ce-8d2f-d4d9a9cff582",
   "metadata": {},
   "outputs": [
    {
     "data": {
      "text/plain": [
       "array([[0.     , 0.     , 0.30103],\n",
       "       [0.30103, 0.30103, 0.     ],\n",
       "       [0.     , 0.30103, 0.     ]])"
      ]
     },
     "execution_count": 74,
     "metadata": {},
     "output_type": "execute_result"
    }
   ],
   "source": [
    "np.log10(m1)"
   ]
  },
  {
   "cell_type": "code",
   "execution_count": 75,
   "id": "aaf84eda-7fc1-4d6c-8d80-ebcc11a8a590",
   "metadata": {},
   "outputs": [
    {
     "data": {
      "text/plain": [
       "array([[2.71828183, 2.71828183, 7.3890561 ],\n",
       "       [7.3890561 , 7.3890561 , 2.71828183],\n",
       "       [2.71828183, 7.3890561 , 2.71828183]])"
      ]
     },
     "execution_count": 75,
     "metadata": {},
     "output_type": "execute_result"
    }
   ],
   "source": [
    "np.exp(m1)"
   ]
  }
 ],
 "metadata": {
  "kernelspec": {
   "display_name": "Python 3 (ipykernel)",
   "language": "python",
   "name": "python3"
  },
  "language_info": {
   "codemirror_mode": {
    "name": "ipython",
    "version": 3
   },
   "file_extension": ".py",
   "mimetype": "text/x-python",
   "name": "python",
   "nbconvert_exporter": "python",
   "pygments_lexer": "ipython3",
   "version": "3.10.6"
  }
 },
 "nbformat": 4,
 "nbformat_minor": 5
}
